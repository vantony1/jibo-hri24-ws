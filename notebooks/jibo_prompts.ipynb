{
 "cells": [
  {
   "cell_type": "markdown",
   "metadata": {},
   "source": [
    "# Jibo Teleop - Input prompts"
   ]
  },
  {
   "cell_type": "markdown",
   "metadata": {},
   "source": [
    "## Step 1: import stuff"
   ]
  },
  {
   "cell_type": "markdown",
   "metadata": {},
   "source": [
    "Run this only once"
   ]
  },
  {
   "cell_type": "code",
   "execution_count": null,
   "metadata": {},
   "outputs": [],
   "source": [
    "import rclpy # ROS2\n",
    "import time\n",
    "import threading\n",
    "from jibo_teleop_ros import JiboTeleop\n",
    "\n",
    "rclpy.init()"
   ]
  },
  {
   "cell_type": "markdown",
   "metadata": {},
   "source": [
    "# Step 2: Ask for user input for Jibo to say"
   ]
  },
  {
   "cell_type": "code",
   "execution_count": null,
   "metadata": {},
   "outputs": [],
   "source": [
    "def main(args=None):\n",
    "    teleop_connection = JiboTeleop()\n",
    "    time.sleep(2)\n",
    "\n",
    "    # Spin in a separate thread\n",
    "    thread = threading.Thread(target=rclpy.spin, args=(teleop_connection, ), daemon=True)\n",
    "    thread.start()\n",
    "\n",
    "    while rclpy.ok():\n",
    "        jibo_promts = input(\"what do you want Jibo to say:\")\n",
    "        print(\"jibo says: \" + jibo_promts)\n",
    "        if jibo_promts:\n",
    "            teleop_connection.send_tts_message(str(jibo_promts))\n",
    "            time.sleep(2.0)\n",
    "            teleop_connection.waitforJibo()\n",
    "            teleop_connection.rate.sleep()\n",
    "        \n",
    "\n",
    "    teleop_connection.destroy_node()\n",
    "    rclpy.shutdown()\n",
    "\n",
    "\n",
    "if __name__ == '__main__':\n",
    "    main()"
   ]
  }
 ],
 "metadata": {
  "kernelspec": {
   "display_name": "Python 3 (ipykernel)",
   "language": "python",
   "name": "python3"
  },
  "language_info": {
   "codemirror_mode": {
    "name": "ipython",
    "version": 3
   },
   "file_extension": ".py",
   "mimetype": "text/x-python",
   "name": "python",
   "nbconvert_exporter": "python",
   "pygments_lexer": "ipython3",
   "version": "3.10.12"
  },
  "vscode": {
   "interpreter": {
    "hash": "3ad933181bd8a04b432d3370b9dc3b0662ad032c4dfaa4e4f1596c548f763858"
   }
  }
 },
 "nbformat": 4,
 "nbformat_minor": 4
}
