{
 "cells": [
  {
   "cell_type": "markdown",
   "metadata": {},
   "source": [
    "# Jibo Teleop"
   ]
  },
  {
   "cell_type": "markdown",
   "metadata": {},
   "source": [
    "## Step 1: import stuff"
   ]
  },
  {
   "cell_type": "markdown",
   "metadata": {},
   "source": [
    "Run this only once"
   ]
  },
  {
   "cell_type": "code",
   "execution_count": null,
   "metadata": {},
   "outputs": [],
   "source": [
    "import rclpy # ROS2\n",
    "import time\n",
    "import threading\n",
    "from jibo_teleop_ros import JiboTeleop\n",
    "\n",
    "rclpy.init()"
   ]
  },
  {
   "cell_type": "markdown",
   "metadata": {},
   "source": [
    "# Step 2: Run a few commands"
   ]
  },
  {
   "cell_type": "markdown",
   "metadata": {},
   "source": [
    "#### Jibo Commands sheet-cheat\n",
    "- Jibo say something: `teleop_connection.ros_teleop.send_tts_message(jibo_promts)`\n",
    "- Jibo Dance/Animiation/Emoji/Jiboji: `teleop_connection.ros_teleop.send_motion_message(path_to_file)` \n",
    "- Jibo Play Audio: `teleop_connection.ros_teleop.send_sound_message(path_to_audio_file)`\n",
    "- Jibo LED: `teleop_connection.ros_teleop.send_led_message(r,g,b)`\n",
    "- Jibo body move: `teleop_connection.ros_teleop.send_lookat_message(x,y,z)`\n",
    "- Jibo listen/wait for user speech:`teleop_connection.ros_teleop.JiboListen()`\n",
    "\n",
    "(see list of paths for Animation, Dances, Audio, Emoji, etc.: https://docs.google.com/spreadsheets/d/1FTqMNtcOdY3DiJ6tEYhlwc11WOpyp_jwcfV4FPdORok/edit#gid=1294449188 )\n"
   ]
  },
  {
   "cell_type": "code",
   "execution_count": null,
   "metadata": {},
   "outputs": [],
   "source": [
    "def main(args=None):\n",
    "    teleop_connection = JiboTeleop()\n",
    "    time.sleep(2)\n",
    "\n",
    "    # Spin in a separate thread\n",
    "    thread = threading.Thread(target=rclpy.spin, args=(teleop_connection, ), daemon=True)\n",
    "    thread.start()\n",
    "\n",
    "    if rclpy.ok():\n",
    "\n",
    "        jibo_promts = 'Hi there, i am Jibo. Would you like to play with me?'\n",
    "        teleop_connection.send_tts_message(str(jibo_promts))\n",
    "        time.sleep(2.0)\n",
    "        teleop_connection.waitforJibo()\n",
    "\n",
    "        teleop_connection.send_motion_message('Dances/Celebrate_01.keys')\n",
    "        time.sleep(2.0)\n",
    "        teleop_connection.waitforJibo()\n",
    "\n",
    "\n",
    "        teleop_connection.send_sound_message('excited1-jibo-old1.wav')\n",
    "        time.sleep(2.0)\n",
    "        teleop_connection.waitforJibo()\n",
    "\n",
    "        # Change LED color RGB\n",
    "        teleop_connection.send_led_message(0.7,0.0,0.0)\n",
    "        time.sleep(2)\n",
    "        teleop_connection.send_led_message(0.0,0.0,0.0)\n",
    "        \n",
    "        # Change Jibo body position X, Y, Z axis\n",
    "        teleop_connection.send_lookat_message(0.9,0.0,0.0)\n",
    "        time.sleep(2)\n",
    "        teleop_connection.send_lookat_message(0.0,0.9,0.0)\n",
    "        time.sleep(2)\n",
    "        teleop_connection.send_lookat_message(0.0,0.0,0.9)\n",
    "\n",
    "        teleop_connection.JiboListen()\n",
    "        time.sleep(2)\n",
    "        teleop_connection.waitforJibo()\n",
    "\n",
    "        jibo_promts = 'Did you say: '+ teleop_connection.asr_transcription\n",
    "        teleop_connection.send_tts_message(str(jibo_promts))\n",
    "        time.sleep(2.2)\n",
    "        teleop_connection.waitforJibo()\n",
    "        teleop_connection.rate.sleep()\n",
    "        \n",
    "        time.sleep(2)\n",
    "\n",
    "    teleop_connection.destroy_node()\n",
    "    rclpy.shutdown()\n",
    "\n",
    "\n",
    "if __name__ == '__main__':\n",
    "    main()"
   ]
  }
 ],
 "metadata": {
  "kernelspec": {
   "display_name": "Python 3 (ipykernel)",
   "language": "python",
   "name": "python3"
  },
  "language_info": {
   "codemirror_mode": {
    "name": "ipython",
    "version": 3
   },
   "file_extension": ".py",
   "mimetype": "text/x-python",
   "name": "python",
   "nbconvert_exporter": "python",
   "pygments_lexer": "ipython3",
   "version": "3.10.12"
  },
  "vscode": {
   "interpreter": {
    "hash": "3ad933181bd8a04b432d3370b9dc3b0662ad032c4dfaa4e4f1596c548f763858"
   }
  }
 },
 "nbformat": 4,
 "nbformat_minor": 4
}
