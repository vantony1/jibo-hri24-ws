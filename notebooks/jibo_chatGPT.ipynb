{
 "cells": [
  {
   "cell_type": "markdown",
   "metadata": {},
   "source": [
    "# Jibo Teleop - Chat with GPT"
   ]
  },
  {
   "cell_type": "markdown",
   "metadata": {},
   "source": [
    "## Step 1: import stuff"
   ]
  },
  {
   "cell_type": "markdown",
   "metadata": {},
   "source": [
    "Run this only once"
   ]
  },
  {
   "cell_type": "code",
   "execution_count": null,
   "metadata": {},
   "outputs": [],
   "source": [
    "import rclpy # ROS2\n",
    "import time\n",
    "import threading\n",
    "from jibo_teleop_ros import JiboTeleop\n",
    "\n",
    "rclpy.init()"
   ]
  },
  {
   "cell_type": "markdown",
   "metadata": {},
   "source": [
    "## Step 2: Set your GPT config"
   ]
  },
  {
   "cell_type": "code",
   "execution_count": null,
   "metadata": {},
   "outputs": [],
   "source": [
    "from openai import OpenAI\n",
    "\n",
    "client = OpenAI(\n",
    "    api_key=\"[your api key here!!]\"\n",
    ")\n",
    "gpt_model = \"gpt-3.5-turbo\""
   ]
  },
  {
   "cell_type": "markdown",
   "metadata": {},
   "source": [
    "## Step 3: Chat with GPT "
   ]
  },
  {
   "cell_type": "code",
   "execution_count": null,
   "metadata": {},
   "outputs": [],
   "source": [
    "def main(args=None):\n",
    "    teleop_connection = JiboTeleop()\n",
    "    time.sleep(2)\n",
    "\n",
    "    system_message =  \"You are Jibo, a friendly social robot who likes to chat about different topics.\" \\\n",
    "                      \"Pick a random topic to discuss and use personalized stories.\" \\\n",
    "                      \"Always respond in one short fun and exciting sentence, \" \\\n",
    "                      \"and use language that is easy to understand for all ages.\" \\\n",
    "                      \" Give turns to user to respond.\"\n",
    "    # Spin in a separate thread\n",
    "    thread = threading.Thread(target=rclpy.spin, args=(teleop_connection, ), daemon=True)\n",
    "    thread.start()\n",
    "\n",
    "\n",
    "    morning_name = 'Hello, am jibo! let me know when you want to chat about anything. '\n",
    "    teleop_connection.send_tts_message(str(morning_name))\n",
    "    time.sleep(2.0)\n",
    "    teleop_connection.waitforJibo()\n",
    "\n",
    "    chat_history=[\n",
    "        {\"role\": \"system\", \"content\": system_message},\n",
    "        {\"role\": \"assistant\", \"content\": morning_name}\n",
    "    ]\n",
    "\n",
    "    morning_motion = 'Misc/greetings_09.keys'\n",
    "    teleop_connection.send_motion_message(morning_motion)\n",
    "    time.sleep(2.0)\n",
    "    teleop_connection.waitforJibo()\n",
    "\n",
    "    while rclpy.ok():\n",
    "        teleop_connection.JiboListen()\n",
    "        time.sleep(2)\n",
    "        teleop_connection.waitforJibo()\n",
    "\n",
    "        if teleop_connection.asr_transcription != '' and teleop_connection.asr_transcription != 'NOSPEECH':\n",
    "\n",
    "            chat_history.append({\"role\": \"user\", \"name\":\"freind\", \"content\": teleop_connection.asr_transcription})\n",
    "\n",
    "            completion = client.chat.completions.create(\n",
    "                model=gpt_model,\n",
    "                messages=chat_history,\n",
    "                )\n",
    "\n",
    "            gpt_response = completion.choices[0].message.content\n",
    "            chat_history.append({\"role\": \"assistant\", \"content\": gpt_response})\n",
    "\n",
    "            teleop_connection.send_tts_message(str(gpt_response))\n",
    "            time.sleep(2.0)\n",
    "            teleop_connection.waitforJibo()\n",
    "\n",
    "\n",
    "    teleop_connection.destroy_node()\n",
    "    rclpy.shutdown()\n",
    "\n",
    "\n",
    "if __name__ == '__main__':\n",
    "    main()"
   ]
  }
 ],
 "metadata": {
  "kernelspec": {
   "display_name": "Python 3 (ipykernel)",
   "language": "python",
   "name": "python3"
  },
  "language_info": {
   "codemirror_mode": {
    "name": "ipython",
    "version": 3
   },
   "file_extension": ".py",
   "mimetype": "text/x-python",
   "name": "python",
   "nbconvert_exporter": "python",
   "pygments_lexer": "ipython3",
   "version": "3.10.12"
  },
  "vscode": {
   "interpreter": {
    "hash": "3ad933181bd8a04b432d3370b9dc3b0662ad032c4dfaa4e4f1596c548f763858"
   }
  }
 },
 "nbformat": 4,
 "nbformat_minor": 4
}
